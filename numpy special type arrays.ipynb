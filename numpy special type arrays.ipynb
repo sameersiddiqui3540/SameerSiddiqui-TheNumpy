{
 "cells": [
  {
   "cell_type": "code",
   "execution_count": 81,
   "metadata": {},
   "outputs": [],
   "source": [
    "#Import numpy \n",
    "import numpy as np"
   ]
  },
  {
   "cell_type": "code",
   "execution_count": 82,
   "metadata": {
    "scrolled": true
   },
   "outputs": [
    {
     "name": "stdout",
     "output_type": "stream",
     "text": [
      "Datatype: float64\n",
      "Shape: (2, 3)\n",
      "Array:\n",
      " [[1.   2.   3.14]\n",
      " [5.6  7.   8.  ]]\n"
     ]
    }
   ],
   "source": [
    "#Two Dimensional Array\n",
    "two_dimensional_array = np.array([[1,2,3.14],\n",
    "                                  [5.6,7,8]])\n",
    "print(\"Datatype:\",two_dimensional_array.dtype)\n",
    "print(\"Shape:\",two_dimensional_array.shape)\n",
    "print(\"Array:\\n\",two_dimensional_array)"
   ]
  },
  {
   "cell_type": "code",
   "execution_count": 83,
   "metadata": {},
   "outputs": [
    {
     "name": "stdout",
     "output_type": "stream",
     "text": [
      "Data type: complex128\n",
      "Shape: (2, 2)\n",
      "Array: \n",
      " [[1.+0.j 2.+0.j]\n",
      " [3.+0.j 4.+0.j]]\n"
     ]
    }
   ],
   "source": [
    "#Numpy Complex value Array\n",
    "complex_array = np.array([[1,2],[3,4]],dtype=complex)\n",
    "print(\"Data type:\",complex_array.dtype)\n",
    "print(\"Shape:\",complex_array.shape)\n",
    "print(\"Array: \\n\",complex_array)"
   ]
  },
  {
   "cell_type": "code",
   "execution_count": 84,
   "metadata": {},
   "outputs": [
    {
     "name": "stdout",
     "output_type": "stream",
     "text": [
      "Data type : int64\n",
      "Array: \n",
      " [[0. 0.]\n",
      " [0. 0.]\n",
      " [0. 0.]]\n",
      "\n",
      "Data type : float64\n",
      "Array: \n",
      " [[0. 0.]\n",
      " [0. 0.]\n",
      " [0. 0.]]\n"
     ]
    }
   ],
   "source": [
    "#Numpy zero array of int type but default is float\n",
    "numpy_zeros_array = np.zeros((2,3),dtype=int)\n",
    "print(\"Data type :\",numpy_zeros_array.dtype)\n",
    "print(\"Array: \\n\",numpy_zero_array)\n",
    "\n",
    "print()\n",
    "\n",
    "#Numpy zero array of float type \n",
    "numpy_zeros_array = np.zeros((3,2))\n",
    "print(\"Data type :\",numpy_zeros_array.dtype)\n",
    "print(\"Array: \\n\",numpy_zero_array)"
   ]
  },
  {
   "cell_type": "code",
   "execution_count": 85,
   "metadata": {},
   "outputs": [
    {
     "name": "stdout",
     "output_type": "stream",
     "text": [
      "Data type: int64\n",
      "Array:\n",
      " [[1 1 1]\n",
      " [1 1 1]]\n",
      "\n",
      "Data type: float64\n",
      "Array:\n",
      " [[1. 1.]\n",
      " [1. 1.]\n",
      " [1. 1.]]\n"
     ]
    }
   ],
   "source": [
    "# numpy ones array of int type\n",
    "numpy_ones_array = np.ones((2,3),dtype=int)\n",
    "print(\"Data type:\",numpy_ones_array.dtype)\n",
    "print(\"Array:\\n\",numpy_ones_array)\n",
    "\n",
    "print()\n",
    "\n",
    "# Numpy ones array of float type\n",
    "numpy_ones_array = np.ones((3,2),dtype=float)\n",
    "print(\"Data type:\",numpy_ones_array.dtype)\n",
    "print(\"Array:\\n\",numpy_ones_array)"
   ]
  },
  {
   "cell_type": "code",
   "execution_count": 86,
   "metadata": {},
   "outputs": [
    {
     "name": "stdout",
     "output_type": "stream",
     "text": [
      "Data type: float64\n",
      "Shape: (5,)\n",
      "Array: [1. 2. 3. 4. 5.]\n"
     ]
    }
   ],
   "source": [
    "#Array based on no. of elements\n",
    "array = np.linspace(1,5,5)\n",
    "print(\"Data type:\",array.dtype)\n",
    "print(\"Shape:\",array.shape)\n",
    "print(\"Array:\",array)"
   ]
  },
  {
   "cell_type": "code",
   "execution_count": 87,
   "metadata": {},
   "outputs": [
    {
     "name": "stdout",
     "output_type": "stream",
     "text": [
      "Data type: int64\n",
      "Shape: (5,)\n",
      "Array:\n",
      " [0 1 2 3 4]\n",
      "\n",
      "Data type: int64\n",
      "Shape: (2, 5)\n",
      "Array:\n",
      " [[0 1 2 3 4]\n",
      " [5 6 7 8 9]]\n"
     ]
    }
   ],
   "source": [
    "# Array based on range and/or of specific dimension\n",
    "array = np.arange(5)\n",
    "print(\"Data type:\",array.dtype)\n",
    "print(\"Shape:\",array.shape)\n",
    "print(\"Array:\\n\",array)\n",
    "\n",
    "print()\n",
    "\n",
    "# Array based on given range and dimension\n",
    "array = np.arange(0,10).reshape((2,5))\n",
    "print(\"Data type:\",array.dtype)\n",
    "print(\"Shape:\",array.shape)\n",
    "print(\"Array:\\n\",array)"
   ]
  }
 ],
 "metadata": {
  "kernelspec": {
   "display_name": "Python 3",
   "language": "python",
   "name": "python3"
  },
  "language_info": {
   "codemirror_mode": {
    "name": "ipython",
    "version": 3
   },
   "file_extension": ".py",
   "mimetype": "text/x-python",
   "name": "python",
   "nbconvert_exporter": "python",
   "pygments_lexer": "ipython3",
   "version": "3.6.7"
  }
 },
 "nbformat": 4,
 "nbformat_minor": 2
}
