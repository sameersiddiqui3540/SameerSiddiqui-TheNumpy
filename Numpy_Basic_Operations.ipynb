{
 "cells": [
  {
   "cell_type": "code",
   "execution_count": 30,
   "metadata": {},
   "outputs": [],
   "source": [
    "#Import numpy\n",
    "import numpy as np"
   ]
  },
  {
   "cell_type": "code",
   "execution_count": 31,
   "metadata": {},
   "outputs": [
    {
     "name": "stdout",
     "output_type": "stream",
     "text": [
      "[[0.09428396 0.45123974 0.74053609]\n",
      " [0.46291636 0.96434551 0.54068261]]\n"
     ]
    }
   ],
   "source": [
    "# random value array of 2 X 3\n",
    "random_array = np.random.random((2,3))\n",
    "print(random_array)"
   ]
  },
  {
   "cell_type": "code",
   "execution_count": 32,
   "metadata": {},
   "outputs": [
    {
     "name": "stdout",
     "output_type": "stream",
     "text": [
      "Array c = Array a + Array b:\n",
      " [10 21 32 43 54] \n",
      "\n"
     ]
    }
   ],
   "source": [
    "#Addition of Two numpy arrays\n",
    "array_a = np.array([10,20,30,40,50])\n",
    "array_b = np.arange(5)\n",
    "\n",
    "array_c = array_a + array_b\n",
    "print(\"Array c = Array a + Array b:\\n\",array_c,\"\\n\")"
   ]
  },
  {
   "cell_type": "code",
   "execution_count": 33,
   "metadata": {},
   "outputs": [
    {
     "name": "stdout",
     "output_type": "stream",
     "text": [
      "Array d = Array a - Array b:\n",
      " [10 19 28 37 46] \n",
      "\n"
     ]
    }
   ],
   "source": [
    "#Subtraction of Two numpy arrays\n",
    "array_a = np.array([10,20,30,40,50])\n",
    "array_b = np.arange(5)\n",
    "\n",
    "array_d = array_a - array_b\n",
    "print(\"Array d = Array a - Array b:\\n\",array_d,\"\\n\")"
   ]
  },
  {
   "cell_type": "code",
   "execution_count": 34,
   "metadata": {},
   "outputs": [
    {
     "name": "stdout",
     "output_type": "stream",
     "text": [
      "Array e = Array a * Array b:\n",
      " [  0  20  60 120 200] \n",
      "\n"
     ]
    }
   ],
   "source": [
    "# Multiplication of Two numpy arrays\n",
    "array_a = np.array([10,20,30,40,50])\n",
    "array_b = np.arange(5)\n",
    "\n",
    "array_e = array_a * array_b\n",
    "print(\"Array e = Array a * Array b:\\n\",array_e,\"\\n\")"
   ]
  },
  {
   "cell_type": "code",
   "execution_count": 35,
   "metadata": {},
   "outputs": [
    {
     "name": "stdout",
     "output_type": "stream",
     "text": [
      "Method-1 matrix multiplication:\n",
      " [[5 4]\n",
      " [3 4]] \n",
      "\n",
      "Method-2 matrix multiplication:\n",
      " [[5 4]\n",
      " [3 4]]\n"
     ]
    }
   ],
   "source": [
    "# Matrix multiplication\n",
    "\n",
    "A = np.array([[1,1],\n",
    "              [0,1]])\n",
    "B = np.array([[2,0],\n",
    "                [3,4]])\n",
    "# Method 1:\n",
    "print(\"Method-1 matrix multiplication:\\n\",A@B,\"\\n\")\n",
    "\n",
    "#Method 2:\n",
    "print(\"Method-2 matrix multiplication:\\n\",A.dot(B))"
   ]
  },
  {
   "cell_type": "code",
   "execution_count": 36,
   "metadata": {
    "scrolled": true
   },
   "outputs": [
    {
     "name": "stdout",
     "output_type": "stream",
     "text": [
      "[ 0  1  4  9 16]\n",
      "[False False False  True  True]\n"
     ]
    }
   ],
   "source": [
    "print(array_b**2)\n",
    "print(array_a>30)"
   ]
  }
 ],
 "metadata": {
  "kernelspec": {
   "display_name": "Python 3",
   "language": "python",
   "name": "python3"
  },
  "language_info": {
   "codemirror_mode": {
    "name": "ipython",
    "version": 3
   },
   "file_extension": ".py",
   "mimetype": "text/x-python",
   "name": "python",
   "nbconvert_exporter": "python",
   "pygments_lexer": "ipython3",
   "version": "3.6.7"
  }
 },
 "nbformat": 4,
 "nbformat_minor": 2
}
